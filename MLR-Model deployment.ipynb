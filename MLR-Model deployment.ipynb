{
 "cells": [
  {
   "cell_type": "code",
   "execution_count": 2,
   "id": "fe9bea28-53ba-4673-867a-b5396b9d69ea",
   "metadata": {},
   "outputs": [],
   "source": [
    "import pickle"
   ]
  },
  {
   "cell_type": "code",
   "execution_count": 5,
   "id": "7d6e182d-129f-43aa-ae91-9f2cdd2c25ab",
   "metadata": {},
   "outputs": [],
   "source": [
    "model=pickle.load(open(\"mulline_final.sav\",\"rb\"))"
   ]
  },
  {
   "cell_type": "code",
   "execution_count": 6,
   "id": "e1eef4ca-8ab1-462c-89b6-355156a98ac6",
   "metadata": {},
   "outputs": [
    {
     "name": "stdin",
     "output_type": "stream",
     "text": [
      "R&D: 20000\n",
      "Admin 23000\n",
      "Marketing  30000\n",
      "State_flo 0 or 1: 1\n",
      "State_new 0 or 1: 0\n"
     ]
    }
   ],
   "source": [
    "rd_input=float(input(\"R&D:\"))\n",
    "admin_input=float(input(\"Admin\"))\n",
    "mark_input=float(input(\"Marketing \"))\n",
    "fol_input=int(input(\"State_flo 0 or 1:\"))\n",
    "new_input=int(input(\"State_new 0 or 1:\"))"
   ]
  },
  {
   "cell_type": "code",
   "execution_count": 8,
   "id": "a94eb2a6-2024-48c6-97bf-afb68aff2abb",
   "metadata": {},
   "outputs": [
    {
     "name": "stderr",
     "output_type": "stream",
     "text": [
      "/opt/anaconda3/lib/python3.13/site-packages/sklearn/utils/validation.py:2739: UserWarning: X does not have valid feature names, but LinearRegression was fitted with feature names\n",
      "  warnings.warn(\n"
     ]
    }
   ],
   "source": [
    "result=model.predict([[rd_input,admin_input,mark_input,fol_input,new_input]])"
   ]
  },
  {
   "cell_type": "code",
   "execution_count": 9,
   "id": "5f2839f5-6424-4aaf-b851-5048d9b7368b",
   "metadata": {},
   "outputs": [
    {
     "data": {
      "text/plain": [
       "array([[63467.48446127]])"
      ]
     },
     "execution_count": 9,
     "metadata": {},
     "output_type": "execute_result"
    }
   ],
   "source": [
    "result"
   ]
  },
  {
   "cell_type": "code",
   "execution_count": null,
   "id": "a529d789-9160-4c54-860b-b3ba96941e89",
   "metadata": {},
   "outputs": [],
   "source": []
  }
 ],
 "metadata": {
  "kernelspec": {
   "display_name": "Python [conda env:base] *",
   "language": "python",
   "name": "conda-base-py"
  },
  "language_info": {
   "codemirror_mode": {
    "name": "ipython",
    "version": 3
   },
   "file_extension": ".py",
   "mimetype": "text/x-python",
   "name": "python",
   "nbconvert_exporter": "python",
   "pygments_lexer": "ipython3",
   "version": "3.13.5"
  }
 },
 "nbformat": 4,
 "nbformat_minor": 5
}
