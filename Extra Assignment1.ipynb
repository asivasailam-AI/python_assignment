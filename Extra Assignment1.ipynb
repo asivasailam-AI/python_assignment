{
 "cells": [
  {
   "cell_type": "code",
   "execution_count": 1,
   "id": "ee41afbf-45ee-4d41-b843-c4b89f4c9556",
   "metadata": {},
   "outputs": [
    {
     "name": "stdout",
     "output_type": "stream",
     "text": [
      "HOPE AI\n"
     ]
    }
   ],
   "source": [
    "print(\"HOPE AI\")"
   ]
  },
  {
   "cell_type": "code",
   "execution_count": 4,
   "id": "a65ba069-075d-47df-8aee-09c1a0751054",
   "metadata": {},
   "outputs": [
    {
     "name": "stdin",
     "output_type": "stream",
     "text": [
      "Enter your insitute name?: HOPE AI\n"
     ]
    }
   ],
   "source": [
    "#Buy input\n",
    "institute = input(\"Enter your insitute name?:\")"
   ]
  },
  {
   "cell_type": "code",
   "execution_count": 3,
   "id": "50ef8b2e-8bac-48d2-834f-0a56df294c62",
   "metadata": {},
   "outputs": [
    {
     "name": "stdin",
     "output_type": "stream",
     "text": [
      "Enter your name : SIVA\n",
      "Enter your age : 40\n",
      "Enter your school : BITS PILANI\n",
      "Enter your Degree : MBA\n"
     ]
    }
   ],
   "source": [
    "name = input(\"Enter your name :\")\n",
    "age = input(\"Enter your age :\")\n",
    "school = input(\"Enter your school :\")\n",
    "degree = input(\"Enter your Degree :\")"
   ]
  },
  {
   "cell_type": "code",
   "execution_count": 9,
   "id": "20d1c02f-aba4-49a5-bf0f-9087c0c4ffe6",
   "metadata": {},
   "outputs": [
    {
     "name": "stdin",
     "output_type": "stream",
     "text": [
      "a = 43\n",
      "b = 34\n"
     ]
    },
    {
     "name": "stdout",
     "output_type": "stream",
     "text": [
      "add =  77\n"
     ]
    }
   ],
   "source": [
    "#Addition\n",
    "number1 = int(input(\"a =\"))\n",
    "number2 = int(input(\"b =\"))\n",
    "print(\"add = \",number1+number2)"
   ]
  },
  {
   "cell_type": "code",
   "execution_count": 10,
   "id": "108cad13-23f5-49d3-bf33-f60b75d3c57a",
   "metadata": {},
   "outputs": [
    {
     "name": "stdin",
     "output_type": "stream",
     "text": [
      "a = 43\n",
      "b = 34\n"
     ]
    },
    {
     "name": "stdout",
     "output_type": "stream",
     "text": [
      "sub =  9\n"
     ]
    }
   ],
   "source": [
    "#Subtraction\n",
    "number1 = int(input(\"a =\"))\n",
    "number2 = int(input(\"b =\"))\n",
    "print(\"sub = \",number1-number2)"
   ]
  },
  {
   "cell_type": "code",
   "execution_count": 11,
   "id": "19723e3c-b598-4160-8c6f-d84e8c11ce95",
   "metadata": {},
   "outputs": [
    {
     "name": "stdin",
     "output_type": "stream",
     "text": [
      "a = 63\n",
      "b = 97\n"
     ]
    },
    {
     "name": "stdout",
     "output_type": "stream",
     "text": [
      "mul =  6111\n"
     ]
    }
   ],
   "source": [
    "#multiplication\n",
    "number1 = int(input(\"a =\"))\n",
    "number2 = int(input(\"b =\"))\n",
    "print(\"mul = \",number1*number2)"
   ]
  },
  {
   "cell_type": "code",
   "execution_count": 12,
   "id": "cc47cb5a-788a-4fe2-894f-23ce7cd9e12c",
   "metadata": {},
   "outputs": [
    {
     "name": "stdin",
     "output_type": "stream",
     "text": [
      "a = 76\n",
      "b = 31\n"
     ]
    },
    {
     "name": "stdout",
     "output_type": "stream",
     "text": [
      "floatdiv =  2.4516129032258065\n"
     ]
    }
   ],
   "source": [
    "#Division\n",
    "number1 = int(input(\"a =\"))\n",
    "number2 = int(input(\"b =\"))\n",
    "print(\"floatdiv = \",number1/number2)"
   ]
  },
  {
   "cell_type": "code",
   "execution_count": 13,
   "id": "b7254149-c9cb-46d1-84d0-bcb416d70af9",
   "metadata": {},
   "outputs": [
    {
     "name": "stdin",
     "output_type": "stream",
     "text": [
      "a = 76\n",
      "b = 31\n"
     ]
    },
    {
     "name": "stdout",
     "output_type": "stream",
     "text": [
      "floordiv =  2\n"
     ]
    }
   ],
   "source": [
    "#floor division\n",
    "number1 = int(input(\"a =\"))\n",
    "number2 = int(input(\"b =\"))\n",
    "print(\"floordiv = \",number1//number2)"
   ]
  },
  {
   "cell_type": "code",
   "execution_count": 14,
   "id": "1942f06f-0b3e-42ff-9212-f186b3bd355c",
   "metadata": {},
   "outputs": [
    {
     "name": "stdin",
     "output_type": "stream",
     "text": [
      "a = 76\n",
      "b = 31\n"
     ]
    },
    {
     "name": "stdout",
     "output_type": "stream",
     "text": [
      "mod =  14\n"
     ]
    }
   ],
   "source": [
    "#modulo\n",
    "number1 = int(input(\"a =\"))\n",
    "number2 = int(input(\"b =\"))\n",
    "print(\"mod = \",number1%number2)"
   ]
  },
  {
   "cell_type": "code",
   "execution_count": 15,
   "id": "eab770d9-894e-46d5-b3de-00faf95788f9",
   "metadata": {},
   "outputs": [
    {
     "name": "stdin",
     "output_type": "stream",
     "text": [
      "a = 4\n",
      "b = 4\n"
     ]
    },
    {
     "name": "stdout",
     "output_type": "stream",
     "text": [
      "power =  256\n"
     ]
    }
   ],
   "source": [
    "#power\n",
    "number1 = int(input(\"a =\"))\n",
    "number2 = int(input(\"b =\"))\n",
    "print(\"power = \",number1**number2)"
   ]
  },
  {
   "cell_type": "code",
   "execution_count": null,
   "id": "7c1c462f-7902-4433-87d5-6bf925ab0665",
   "metadata": {},
   "outputs": [],
   "source": []
  }
 ],
 "metadata": {
  "kernelspec": {
   "display_name": "Python [conda env:base] *",
   "language": "python",
   "name": "conda-base-py"
  },
  "language_info": {
   "codemirror_mode": {
    "name": "ipython",
    "version": 3
   },
   "file_extension": ".py",
   "mimetype": "text/x-python",
   "name": "python",
   "nbconvert_exporter": "python",
   "pygments_lexer": "ipython3",
   "version": "3.13.5"
  }
 },
 "nbformat": 4,
 "nbformat_minor": 5
}
