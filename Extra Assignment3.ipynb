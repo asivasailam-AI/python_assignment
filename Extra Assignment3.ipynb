{
 "cells": [
  {
   "cell_type": "code",
   "execution_count": 7,
   "id": "ee41afbf-45ee-4d41-b843-c4b89f4c9556",
   "metadata": {},
   "outputs": [
    {
     "name": "stdin",
     "output_type": "stream",
     "text": [
      "Enter the number= 10\n"
     ]
    },
    {
     "name": "stdout",
     "output_type": "stream",
     "text": [
      "CORRECT\n"
     ]
    }
   ],
   "source": [
    "# print correct if i=10\n",
    "n = int(input(\"Enter the number=\"))\n",
    "if n == 10:\n",
    "    print(\"CORRECT\")\n",
    "else:\n",
    "    print(\"WRONG\")"
   ]
  },
  {
   "cell_type": "code",
   "execution_count": 12,
   "id": "a65ba069-075d-47df-8aee-09c1a0751054",
   "metadata": {},
   "outputs": [
    {
     "name": "stdin",
     "output_type": "stream",
     "text": [
      "Enter the password HOPE@123\n"
     ]
    },
    {
     "name": "stdout",
     "output_type": "stream",
     "text": [
      "Enter the password HOPE@123\n",
      "Your password is correct\n"
     ]
    }
   ],
   "source": [
    "password = input(\"Enter the password\")\n",
    "print(\"Enter the password\", password)\n",
    "if (password == \"HOPE@123\"):\n",
    "    print(\"Your password is correct\")\n",
    "else:\n",
    "    print(\"Your password is correct\")"
   ]
  },
  {
   "cell_type": "code",
   "execution_count": 14,
   "id": "50ef8b2e-8bac-48d2-834f-0a56df294c62",
   "metadata": {},
   "outputs": [
    {
     "name": "stdin",
     "output_type": "stream",
     "text": [
      "Age is 30\n"
     ]
    },
    {
     "name": "stdout",
     "output_type": "stream",
     "text": [
      "age is 30\n",
      "Adult\n"
     ]
    }
   ],
   "source": [
    "age = int(input(\"Age is\"))\n",
    "print(\"age is\", age)\n",
    "if(age < 18):\n",
    "    print(\"Child\")\n",
    "elif(age < 40):\n",
    "    print(\"Adult\")\n",
    "elif(age < 60):\n",
    "    print(\"Citizen\")\n",
    "else:\n",
    "    print(\"senior citizen\")"
   ]
  },
  {
   "cell_type": "code",
   "execution_count": 16,
   "id": "6d66d153-3246-4764-b524-a0821c305cd6",
   "metadata": {},
   "outputs": [
    {
     "name": "stdin",
     "output_type": "stream",
     "text": [
      "Enter a number 1\n"
     ]
    },
    {
     "name": "stdout",
     "output_type": "stream",
     "text": [
      "Enter a number 1\n",
      "Number is positive\n"
     ]
    }
   ],
   "source": [
    "# find whether any given no is positive or negative \n",
    "num = int(input(\"Enter a number\"))\n",
    "print(\"Enter a number\", num)\n",
    "if num > 0:\n",
    "    print(\"Number is positive\")\n",
    "else:\n",
    "    print(\"number is negative\")\n"
   ]
  },
  {
   "cell_type": "code",
   "execution_count": 1,
   "id": "7b71cb94-3283-4b69-83d8-7540451e4b27",
   "metadata": {},
   "outputs": [
    {
     "name": "stdin",
     "output_type": "stream",
     "text": [
      "Enter a number 22\n"
     ]
    },
    {
     "name": "stdout",
     "output_type": "stream",
     "text": [
      "Enter a number to check 22\n",
      "the number is not divisible by 5\n"
     ]
    }
   ],
   "source": [
    "#check whether given no is divisible by 5\n",
    "num = int(input(\"Enter a number\"))\n",
    "print(\"Enter a number to check\", num)\n",
    "if num%5 == 0:\n",
    "    print(\"the number is divisible by 5\")\n",
    "else:\n",
    "    print(\"the number is not divisible by 5\")    \n"
   ]
  },
  {
   "cell_type": "code",
   "execution_count": null,
   "id": "8812369f-6316-4764-b333-9dacf58fd011",
   "metadata": {},
   "outputs": [],
   "source": []
  }
 ],
 "metadata": {
  "kernelspec": {
   "display_name": "Python [conda env:base] *",
   "language": "python",
   "name": "conda-base-py"
  },
  "language_info": {
   "codemirror_mode": {
    "name": "ipython",
    "version": 3
   },
   "file_extension": ".py",
   "mimetype": "text/x-python",
   "name": "python",
   "nbconvert_exporter": "python",
   "pygments_lexer": "ipython3",
   "version": "3.13.5"
  }
 },
 "nbformat": 4,
 "nbformat_minor": 5
}
