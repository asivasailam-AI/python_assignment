{
 "cells": [
  {
   "cell_type": "code",
   "execution_count": 2,
   "id": "8eb5b564-0d09-4f14-b253-3bb95bdfef9b",
   "metadata": {},
   "outputs": [
    {
     "name": "stdout",
     "output_type": "stream",
     "text": [
      "Sub-fields in AI are:\n",
      "Machine Learning\n",
      "Neural Networks\n",
      "Vision\n",
      "Robotics\n",
      "Speech Processing\n",
      "Natural Language Processing\n"
     ]
    }
   ],
   "source": [
    "def subfields():\n",
    "        AIfields = [\n",
    "            \"Machine Learning\",\n",
    "            \"Neural Networks\",\n",
    "            \"Vision\",\n",
    "            \"Robotics\",\n",
    "            \"Speech Processing\",\n",
    "            \"Natural Language Processing\"\n",
    "        ]\n",
    "        print(\"Sub-fields in AI are:\")\n",
    "        for i in AIfields:\n",
    "            print(i)\n",
    "\n",
    "subfields()"
   ]
  },
  {
   "cell_type": "code",
   "execution_count": 27,
   "id": "a905d8d2-696e-4e76-8a99-b0b22699947b",
   "metadata": {},
   "outputs": [
    {
     "name": "stdin",
     "output_type": "stream",
     "text": [
      "Enter a number:  52452\n"
     ]
    },
    {
     "name": "stdout",
     "output_type": "stream",
     "text": [
      "52452 is a even number\n"
     ]
    }
   ],
   "source": [
    "#create a function that checks given no is odd or even\n",
    "def OddEven():\n",
    "        number = int(input(\"Enter a number: \"))\n",
    "        if(number%2==0):\n",
    "            print(f\"{number} is a even number\")\n",
    "        else:\n",
    "            print(f\"{number}is a odd number\")\n",
    "\n",
    "OddEven()"
   ]
  },
  {
   "cell_type": "code",
   "execution_count": 26,
   "id": "faa78464-aa61-4c62-9c6b-d36d35f4510c",
   "metadata": {},
   "outputs": [
    {
     "name": "stdin",
     "output_type": "stream",
     "text": [
      "enter your gender male\n",
      "enter your age 23\n"
     ]
    },
    {
     "name": "stdout",
     "output_type": "stream",
     "text": [
      "elgible\n"
     ]
    }
   ],
   "source": [
    "# Create a function that tells elegibility of marriage for male and female according to their age limit like 21 for male and 18 for female\n",
    "def eligiblityformarriage():\n",
    "    gender = input(\"enter your gender\")\n",
    "    age = int(input(\"enter your age\"))\n",
    "    if (gender == \"male\" and age >= 21):\n",
    "        print(\"elgible\")\n",
    "    elif(gender == \"female\" and age >= 18):\n",
    "        print(\"eligible\")\n",
    "    else:\n",
    "        print(\"not elgible\")\n",
    "eligiblityformarriage()\n"
   ]
  },
  {
   "cell_type": "code",
   "execution_count": 11,
   "id": "48b2f170-afc6-440e-b797-5785356d364e",
   "metadata": {},
   "outputs": [
    {
     "name": "stdin",
     "output_type": "stream",
     "text": [
      "Enter 1st subject mark 67.5\n",
      "Enter 2nd subject mark 60\n",
      "Enter 3rd subject mark 89\n",
      "Enter 4th subject mark 77\n",
      "Enter 5th subject mark 72\n"
     ]
    },
    {
     "name": "stdout",
     "output_type": "stream",
     "text": [
      "total 365.5\n",
      "percentage 73.1\n"
     ]
    }
   ],
   "source": [
    "# calculate the percentage of your 10th mark\n",
    "def findpercentage():\n",
    "    subject1 = float(input(\"Enter 1st subject mark\"))\n",
    "    subject2 = float(input(\"Enter 2nd subject mark\"))\n",
    "    subject3 = float(input(\"Enter 3rd subject mark\"))\n",
    "    subject4 = float(input(\"Enter 4th subject mark\"))\n",
    "    subject5 = float(input(\"Enter 5th subject mark\"))\n",
    "    total = subject1 + subject2 + subject3 + subject4 + subject5\n",
    "    print(\"total\",total)\n",
    "    percentage = total/500 * 100\n",
    "    print(\"percentage\",percentage)\n",
    "findpercentage()"
   ]
  },
  {
   "cell_type": "code",
   "execution_count": 15,
   "id": "c20827bd-5ec3-4fc2-87f9-92d189b3821c",
   "metadata": {},
   "outputs": [
    {
     "name": "stdin",
     "output_type": "stream",
     "text": [
      "height of triangle 32\n",
      "breadth of triangle 34\n"
     ]
    },
    {
     "name": "stdout",
     "output_type": "stream",
     "text": [
      "Area of triangle: height*breadth/2\n",
      "Area of triangle 544.0\n"
     ]
    },
    {
     "name": "stdin",
     "output_type": "stream",
     "text": [
      "height1 of triangle 2\n",
      "height2 of triangle 4\n",
      "breadth of triangle 4\n"
     ]
    },
    {
     "name": "stdout",
     "output_type": "stream",
     "text": [
      "perimeter of triangle: height1+height2+breadth\n",
      "perimeter of triangle 10.0\n"
     ]
    }
   ],
   "source": [
    "#print area and perimeter of a triangle\n",
    "def triangle():\n",
    "    height = float(input(\"height of triangle\"))\n",
    "    breadth = float(input(\"breadth of triangle\"))\n",
    "    print(\"Area of triangle: height*breadth/2\")\n",
    "    area = (height * breadth)/2\n",
    "    print(\"Area of triangle\",area)\n",
    "\n",
    "    height1 = float(input(\"height1 of triangle\"))\n",
    "    height2 = float(input(\"height2 of triangle\"))\n",
    "    breadth = float(input(\"breadth of triangle\"))\n",
    "    print(\"perimeter of triangle: height1+height2+breadth\")\n",
    "    perimeter = height1 + height2 + breadth\n",
    "    print(\"perimeter of triangle\", perimeter)\n",
    "\n",
    "triangle()\n",
    "    "
   ]
  },
  {
   "cell_type": "code",
   "execution_count": null,
   "id": "745bafb9-6fcd-4fe4-ac3e-e7d612f96ade",
   "metadata": {},
   "outputs": [],
   "source": []
  }
 ],
 "metadata": {
  "kernelspec": {
   "display_name": "Python [conda env:base] *",
   "language": "python",
   "name": "conda-base-py"
  },
  "language_info": {
   "codemirror_mode": {
    "name": "ipython",
    "version": 3
   },
   "file_extension": ".py",
   "mimetype": "text/x-python",
   "name": "python",
   "nbconvert_exporter": "python",
   "pygments_lexer": "ipython3",
   "version": "3.13.5"
  }
 },
 "nbformat": 4,
 "nbformat_minor": 5
}
