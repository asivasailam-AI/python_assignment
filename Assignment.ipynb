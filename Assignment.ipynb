{
 "cells": [
  {
   "cell_type": "code",
   "execution_count": 1,
   "id": "94bd10f3-01e9-4d9a-9f16-0198b4a11b12",
   "metadata": {},
   "outputs": [
    {
     "name": "stdout",
     "output_type": "stream",
     "text": [
      "Welcome to assignment-1\n"
     ]
    }
   ],
   "source": [
    "print(\"Welcome to assignment-1\")"
   ]
  },
  {
   "cell_type": "code",
   "execution_count": 6,
   "id": "5f1d56f1-c5f5-43e3-854f-715ad1577f44",
   "metadata": {},
   "outputs": [
    {
     "name": "stdout",
     "output_type": "stream",
     "text": [
      "Num1= 10\n",
      "Num2= 30\n",
      "Add= 40\n"
     ]
    }
   ],
   "source": [
    "num1=10\n",
    "print(\"Num1=\",num1)\n",
    "num2=30\n",
    "print(\"Num2=\",num2)\n",
    "print(\"Add=\",num1+num2)"
   ]
  },
  {
   "cell_type": "code",
   "execution_count": null,
   "id": "82159fab-8340-4c80-82cc-57ba8c4ea860",
   "metadata": {},
   "outputs": [],
   "source": [
    "#body mass index"
   ]
  },
  {
   "cell_type": "code",
   "execution_count": 2,
   "id": "ba20de45-4479-4632-90a6-9ce8b954a681",
   "metadata": {},
   "outputs": [
    {
     "name": "stdin",
     "output_type": "stream",
     "text": [
      "Enter the BMI index: 34\n"
     ]
    },
    {
     "name": "stdout",
     "output_type": "stream",
     "text": [
      "Very Overweight\n"
     ]
    }
   ],
   "source": [
    "bodymass = float(input(\"Enter the BMI index:\"))\n",
    "if(bodymass < 18.5):\n",
    "    print(\"underweight\")\n",
    "elif(18.5 <= bodymass <= 24.9):\n",
    "    print(\"normal range\")\n",
    "elif(25.0 <= bodymass <= 29.9):\n",
    "    print(\"overweight\")\n",
    "else: print(\"Very Overweight\")"
   ]
  },
  {
   "cell_type": "code",
   "execution_count": null,
   "id": "17edb02a-14ba-42d0-b080-3780e01c4c71",
   "metadata": {},
   "outputs": [],
   "source": []
  }
 ],
 "metadata": {
  "kernelspec": {
   "display_name": "Python [conda env:base] *",
   "language": "python",
   "name": "conda-base-py"
  },
  "language_info": {
   "codemirror_mode": {
    "name": "ipython",
    "version": 3
   },
   "file_extension": ".py",
   "mimetype": "text/x-python",
   "name": "python",
   "nbconvert_exporter": "python",
   "pygments_lexer": "ipython3",
   "version": "3.13.5"
  }
 },
 "nbformat": 4,
 "nbformat_minor": 5
}
