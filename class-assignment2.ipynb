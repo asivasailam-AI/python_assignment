{
 "cells": [
  {
   "cell_type": "code",
   "execution_count": 5,
   "id": "e2e63099-322e-45cd-b410-24284f6e828b",
   "metadata": {},
   "outputs": [
    {
     "name": "stdout",
     "output_type": "stream",
     "text": [
      "Sub-fields in AI are:\n",
      "Machine Learning\n",
      "Neural Networks\n",
      "Vision\n",
      "Robotics\n",
      "Speech Processing\n",
      "Natural Language Processing\n"
     ]
    },
    {
     "name": "stdin",
     "output_type": "stream",
     "text": [
      "Enter a number:  42542\n"
     ]
    },
    {
     "name": "stdout",
     "output_type": "stream",
     "text": [
      "42542 is a even number\n"
     ]
    },
    {
     "name": "stdin",
     "output_type": "stream",
     "text": [
      "enter your gender male\n",
      "enter your age 23\n"
     ]
    },
    {
     "name": "stdout",
     "output_type": "stream",
     "text": [
      "elgible\n"
     ]
    },
    {
     "name": "stdin",
     "output_type": "stream",
     "text": [
      "Enter 1st subject mark 69\n",
      "Enter 2nd subject mark 60\n",
      "Enter 3rd subject mark 90\n",
      "Enter 4th subject mark 78\n",
      "Enter 5th subject mark 72\n"
     ]
    },
    {
     "name": "stdout",
     "output_type": "stream",
     "text": [
      "total 369.0\n",
      "percentage 73.8\n"
     ]
    },
    {
     "name": "stdin",
     "output_type": "stream",
     "text": [
      "height of triangle 10\n",
      "breadth of triangle 20\n"
     ]
    },
    {
     "name": "stdout",
     "output_type": "stream",
     "text": [
      "Area of triangle: height*breadth/2\n",
      "Area of triangle 100.0\n"
     ]
    },
    {
     "name": "stdin",
     "output_type": "stream",
     "text": [
      "height1 of triangle 21\n",
      "height2 of triangle 23\n",
      "breadth of triangle 30\n"
     ]
    },
    {
     "name": "stdout",
     "output_type": "stream",
     "text": [
      "perimeter of triangle: height1+height2+breadth\n",
      "perimeter of triangle 74.0\n"
     ]
    }
   ],
   "source": [
    "from classassign import functions"
   ]
  },
  {
   "cell_type": "code",
   "execution_count": 6,
   "id": "81f555f0-e706-4d51-a43e-824f2101d3a0",
   "metadata": {},
   "outputs": [
    {
     "name": "stdout",
     "output_type": "stream",
     "text": [
      "Sub-fields in AI are:\n",
      "Machine Learning\n",
      "Neural Networks\n",
      "Vision\n",
      "Robotics\n",
      "Speech Processing\n",
      "Natural Language Processing\n"
     ]
    }
   ],
   "source": [
    "functions.subfields()"
   ]
  },
  {
   "cell_type": "code",
   "execution_count": 7,
   "id": "77b6014d-be4e-45cd-bf6d-638cbd3739a5",
   "metadata": {},
   "outputs": [
    {
     "name": "stdin",
     "output_type": "stream",
     "text": [
      "enter your gender male\n",
      "enter your age 25\n"
     ]
    },
    {
     "name": "stdout",
     "output_type": "stream",
     "text": [
      "elgible\n"
     ]
    }
   ],
   "source": [
    "functions.eligiblityformarriage()"
   ]
  },
  {
   "cell_type": "code",
   "execution_count": 8,
   "id": "4d6c0af0-914d-4e6c-ac6c-c701eb0cc77d",
   "metadata": {},
   "outputs": [
    {
     "name": "stdin",
     "output_type": "stream",
     "text": [
      "Enter 1st subject mark 68\n",
      "Enter 2nd subject mark 60\n",
      "Enter 3rd subject mark 89\n",
      "Enter 4th subject mark 77\n",
      "Enter 5th subject mark 72\n"
     ]
    },
    {
     "name": "stdout",
     "output_type": "stream",
     "text": [
      "total 366.0\n",
      "percentage 73.2\n"
     ]
    }
   ],
   "source": [
    "functions.findpercentage()"
   ]
  },
  {
   "cell_type": "code",
   "execution_count": 9,
   "id": "371c2cc5-535b-45d1-9477-a14791945e86",
   "metadata": {},
   "outputs": [
    {
     "name": "stdin",
     "output_type": "stream",
     "text": [
      "height of triangle 10\n",
      "breadth of triangle 20\n"
     ]
    },
    {
     "name": "stdout",
     "output_type": "stream",
     "text": [
      "Area of triangle: height*breadth/2\n",
      "Area of triangle 100.0\n"
     ]
    },
    {
     "name": "stdin",
     "output_type": "stream",
     "text": [
      "height1 of triangle 20\n",
      "height2 of triangle 20\n",
      "breadth of triangle 40\n"
     ]
    },
    {
     "name": "stdout",
     "output_type": "stream",
     "text": [
      "perimeter of triangle: height1+height2+breadth\n",
      "perimeter of triangle 80.0\n"
     ]
    }
   ],
   "source": [
    "functions.triangle()"
   ]
  },
  {
   "cell_type": "code",
   "execution_count": null,
   "id": "ea8e82cc-2ccc-4f74-84e3-550c32c1b382",
   "metadata": {},
   "outputs": [],
   "source": []
  }
 ],
 "metadata": {
  "kernelspec": {
   "display_name": "Python [conda env:base] *",
   "language": "python",
   "name": "conda-base-py"
  },
  "language_info": {
   "codemirror_mode": {
    "name": "ipython",
    "version": 3
   },
   "file_extension": ".py",
   "mimetype": "text/x-python",
   "name": "python",
   "nbconvert_exporter": "python",
   "pygments_lexer": "ipython3",
   "version": "3.13.5"
  }
 },
 "nbformat": 4,
 "nbformat_minor": 5
}
